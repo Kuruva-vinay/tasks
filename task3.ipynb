{
 "cells": [
  {
   "cell_type": "code",
   "execution_count": null,
   "id": "Pb595",
   "metadata": {},
   "outputs": [],
   "source": [
    "import pandas as pd\n",
    "csv_filename = input('Enter the CSV filename: ')\n",
    "df = pd.read_csv(csv_filename)\n",
    "mapping = {'A': 1, 'B': 2, 'C': 3}\n",
    "df['mapped_column'] = df['column_to_map'].map(mapping)\n",
    "print(df)"
   ]
  }
 ],
 "metadata": {},
 "nbformat": 4,
 "nbformat_minor": 5
}

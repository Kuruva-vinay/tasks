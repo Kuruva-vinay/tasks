{
 "cells": [
  {
   "cell_type": "code",
   "execution_count": null,
   "id": "Pf5ee",
   "metadata": {},
   "outputs": [],
   "source": [
    "filename = input('Enter the filename: ')"
   ]
  },
  {
   "cell_type": "code",
   "execution_count": null,
   "id": "P5b59",
   "metadata": {},
   "outputs": [],
   "source": [
    "with open(filename, 'r') as file:\n",
    "    content = file.read()\n",
    "    char_count = {}\n",
    "    for char in content:\n",
    "        if char in char_count:\n",
    "            char_count[char] += 1\n",
    "        else:\n",
    "            char_count[char] = 1"
   ]
  },
  {
   "cell_type": "code",
   "execution_count": null,
   "id": "Pf63f",
   "metadata": {},
   "outputs": [],
   "source": [
    "for char, count in char_count.items():\n",
    "    print(f'{char}: {count}')"
   ]
  },
  {
   "cell_type": "code",
   "execution_count": null,
   "id": "Pf0a3",
   "metadata": {},
   "outputs": [],
   "source": [
    "import pandas as pd\n",
    "csv_filename = input('Enter the CSV filename: ')\n",
    "df = pd.read_csv(csv_filename)"
   ]
  },
  {
   "cell_type": "code",
   "execution_count": null,
   "id": "Pdbaf",
   "metadata": {},
   "outputs": [],
   "source": [
    "print('First five lines:')\n",
    "print(df.head())\n",
    "print('Last five lines:')\n",
    "print(df.tail())"
   ]
  },
  {
   "cell_type": "code",
   "execution_count": null,
   "id": "Pb595",
   "metadata": {},
   "outputs": [],
   "source": [
    "mapping = {'A': 1, 'B': 2, 'C': 3}\n",
    "df['mapped_column'] = df['column_to_map'].map(mapping)\n",
    "print(df)"
   ]
  },
  {
   "cell_type": "code",
   "execution_count": null,
   "id": "Pdd01",
   "metadata": {},
   "outputs": [],
   "source": [
    "substring = input('Enter the substring to search for: ')\n",
    "filtered_df = df[df['column_to_search'].str.contains(substring)]\n",
    "print(filtered_df)"
   ]
  }
 ],
 "metadata": {},
 "nbformat": 4,
 "nbformat_minor": 5
}

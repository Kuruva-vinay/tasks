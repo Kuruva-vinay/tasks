{
 "cells": [
  {
   "cell_type": "code",
   "execution_count": null,
   "id": "Pf5ee",
   "metadata": {},
   "outputs": [],
   "source": [
    "filename = input('Enter the filename: ')"
   ]
  },
  {
   "cell_type": "code",
   "execution_count": null,
   "id": "P5b59",
   "metadata": {},
   "outputs": [],
   "source": [
    "with open(filename, 'r') as file:\n",
    "    content = file.read()\n",
    "    char_count = {}\n",
    "    for char in content:\n",
    "        if char in char_count:\n",
    "            char_count[char] += 1\n",
    "        else:\n",
    "            char_count[char] = 1"
   ]
  },
  {
   "cell_type": "code",
   "execution_count": null,
   "id": "Pf63f",
   "metadata": {},
   "outputs": [],
   "source": [
    "for char, count in char_count.items():\n",
    "    print(f'{char}: {count}')"
   ]
  }
 ],
 "metadata": {},
 "nbformat": 4,
 "nbformat_minor": 5
}

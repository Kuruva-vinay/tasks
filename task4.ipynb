{
 "cells": [
  {
   "cell_type": "code",
   "execution_count": null,
   "id": "Pdd01",
   "metadata": {},
   "outputs": [],
   "source": [
    "import pandas as pd\n",
    "csv_filename = input('Enter the CSV filename: ')\n",
    "df = pd.read_csv(csv_filename)\n",
    "substring = input('Enter the substring to search for: ')\n",
    "filtered_df = df[df['column_to_search'].str.contains(substring)]\n",
    "print(filtered_df)"
   ]
  }
 ],
 "metadata": {},
 "nbformat": 4,
 "nbformat_minor": 5
}

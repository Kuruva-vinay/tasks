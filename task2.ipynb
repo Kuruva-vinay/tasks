{
 "cells": [
  {
   "cell_type": "code",
   "execution_count": null,
   "id": "Pf0a3",
   "metadata": {},
   "outputs": [],
   "source": [
    "import pandas as pd\n",
    "csv_filename = input('Enter the CSV filename: ')\n",
    "df = pd.read_csv(csv_filename)"
   ]
  },
  {
   "cell_type": "code",
   "execution_count": null,
   "id": "Pdbaf",
   "metadata": {},
   "outputs": [],
   "source": [
    "print('First five lines:')\n",
    "print(df.head())\n",
    "print('Last five lines:')\n",
    "print(df.tail())"
   ]
  }
 ],
 "metadata": {},
 "nbformat": 4,
 "nbformat_minor": 5
}
